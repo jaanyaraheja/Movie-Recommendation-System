{
 "cells": [
  {
   "cell_type": "code",
   "execution_count": 5,
   "id": "b3ad362f",
   "metadata": {},
   "outputs": [],
   "source": [
    "import pandas as pd\n",
    "import numpy as np\n",
    "\n",
    "df = pd.read_csv(\"C:/Users/JAANYA RAHEJA/Downloads/archive (10)/movie_dataset.csv\")\n"
   ]
  },
  {
   "cell_type": "code",
   "execution_count": 2,
   "id": "8399643a",
   "metadata": {},
   "outputs": [],
   "source": [
    "df.isnull().sum()  # Identify missing values\n",
    "df.fillna('', inplace=True)  # Simple approach to fill missing values with empty strings\n"
   ]
  },
  {
   "cell_type": "code",
   "execution_count": 3,
   "id": "978cea9f",
   "metadata": {},
   "outputs": [],
   "source": [
    "df['release_date'] = pd.to_datetime(df['release_date'])\n"
   ]
  },
  {
   "cell_type": "code",
   "execution_count": 7,
   "id": "7fd0b3db",
   "metadata": {},
   "outputs": [],
   "source": [
    "df['release_date'] = pd.to_datetime(df['release_date'], format='%Y-%m-%d')\n"
   ]
  },
  {
   "cell_type": "code",
   "execution_count": 8,
   "id": "d1bdc3d3",
   "metadata": {},
   "outputs": [],
   "source": [
    "df['release_year'] = df['release_date'].dt.year\n",
    "df['log_vote_count'] = df['vote_count'].apply(lambda x: np.log1p(x))\n",
    "df['log_popularity'] = df['popularity'].apply(lambda x: np.log1p(x))\n"
   ]
  },
  {
   "cell_type": "code",
   "execution_count": 9,
   "id": "5b093ec7",
   "metadata": {},
   "outputs": [],
   "source": [
    "from sklearn.preprocessing import MultiLabelBinarizer\n",
    "\n",
    "df['genres'] = df['genres'].apply(lambda x: x.split(','))\n",
    "mlb = MultiLabelBinarizer()\n",
    "genres_encoded = mlb.fit_transform(df['genres'])\n",
    "genres_df = pd.DataFrame(genres_encoded, columns=mlb.classes_)\n",
    "df = pd.concat([df, genres_df], axis=1)\n"
   ]
  },
  {
   "cell_type": "code",
   "execution_count": 10,
   "id": "34175eb8",
   "metadata": {},
   "outputs": [],
   "source": [
    "language_encoded = pd.get_dummies(df['original_language'], prefix='lang')\n",
    "df = pd.concat([df, language_encoded], axis=1)\n"
   ]
  },
  {
   "cell_type": "code",
   "execution_count": 11,
   "id": "aa57b98b",
   "metadata": {},
   "outputs": [],
   "source": [
    "threshold = df['vote_average'].quantile(0.90)\n",
    "df['top_rated'] = (df['vote_average'] >= threshold).astype(int)\n"
   ]
  },
  {
   "cell_type": "code",
   "execution_count": 12,
   "id": "cb13ad57",
   "metadata": {},
   "outputs": [],
   "source": [
    "features = df.drop(['id', 'title', 'release_date', 'genres', 'original_language', 'overview', 'popularity', 'vote_count', 'vote_average', 'top_rated'], axis=1)\n",
    "target = df['top_rated']\n"
   ]
  },
  {
   "cell_type": "code",
   "execution_count": 13,
   "id": "2982cbe9",
   "metadata": {},
   "outputs": [],
   "source": [
    "from sklearn.model_selection import train_test_split\n",
    "\n",
    "X_train, X_test, y_train, y_test = train_test_split(features, target, test_size=0.2, random_state=42)\n",
    "\n"
   ]
  },
  {
   "cell_type": "code",
   "execution_count": 14,
   "id": "fd769eaf",
   "metadata": {},
   "outputs": [
    {
     "data": {
      "text/plain": [
       "RandomForestClassifier(random_state=42)"
      ]
     },
     "execution_count": 14,
     "metadata": {},
     "output_type": "execute_result"
    }
   ],
   "source": [
    "from sklearn.ensemble import RandomForestClassifier\n",
    "\n",
    "model = RandomForestClassifier(n_estimators=100, random_state=42)\n",
    "model.fit(X_train, y_train)\n"
   ]
  },
  {
   "cell_type": "code",
   "execution_count": 15,
   "id": "7389f3c7",
   "metadata": {},
   "outputs": [
    {
     "name": "stdout",
     "output_type": "stream",
     "text": [
      "              precision    recall  f1-score   support\n",
      "\n",
      "           0       0.92      0.99      0.96      1678\n",
      "           1       0.74      0.27      0.40       189\n",
      "\n",
      "    accuracy                           0.92      1867\n",
      "   macro avg       0.83      0.63      0.68      1867\n",
      "weighted avg       0.90      0.92      0.90      1867\n",
      "\n",
      "Accuracy: 0.9164434922335297\n"
     ]
    }
   ],
   "source": [
    "from sklearn.metrics import classification_report, accuracy_score\n",
    "\n",
    "y_pred = model.predict(X_test)\n",
    "print(classification_report(y_test, y_pred))\n",
    "print(\"Accuracy:\", accuracy_score(y_test, y_pred))\n"
   ]
  },
  {
   "cell_type": "code",
   "execution_count": 16,
   "id": "c326aebb",
   "metadata": {},
   "outputs": [
    {
     "name": "stdout",
     "output_type": "stream",
     "text": [
      "           feature    importance\n",
      "1   log_vote_count  2.469285e-01\n",
      "0     release_year  2.074552e-01\n",
      "2   log_popularity  1.652537e-01\n",
      "47         lang_en  2.918777e-02\n",
      "26           Drama  1.869291e-02\n",
      "..             ...           ...\n",
      "79         lang_tn  3.683535e-06\n",
      "41         lang_bs  2.898744e-06\n",
      "64         lang_km  2.071262e-07\n",
      "54         lang_ga  0.000000e+00\n",
      "81         lang_uk  0.000000e+00\n",
      "\n",
      "[83 rows x 2 columns]\n"
     ]
    }
   ],
   "source": [
    "importances = model.feature_importances_\n",
    "feature_names = features.columns\n",
    "feature_importance_df = pd.DataFrame({'feature': feature_names, 'importance': importances}).sort_values(by='importance', ascending=False)\n",
    "print(feature_importance_df)\n"
   ]
  },
  {
   "cell_type": "code",
   "execution_count": 20,
   "id": "513f35aa",
   "metadata": {},
   "outputs": [
    {
     "name": "stdout",
     "output_type": "stream",
     "text": [
      "                        title release_date  \\\n",
      "0    The Shawshank Redemption   1994-09-23   \n",
      "1               The Godfather   1972-03-14   \n",
      "2       The Godfather Part II   1974-12-20   \n",
      "3            Schindler's List   1993-12-15   \n",
      "4                12 Angry Men   1957-04-10   \n",
      "..                        ...          ...   \n",
      "951          A Man Called Ove   2015-12-25   \n",
      "952                  Deadpool   2016-02-09   \n",
      "955       Steamboat Bill, Jr.   1928-05-09   \n",
      "956                The Killer   1989-03-24   \n",
      "957           Children of Men   2006-09-22   \n",
      "\n",
      "                                            genres  vote_average  \n",
      "0                                  [Drama,  Crime]         8.703  \n",
      "1                                  [Drama,  Crime]         8.695  \n",
      "2                                  [Drama,  Crime]         8.577  \n",
      "3                          [Drama,  History,  War]         8.567  \n",
      "4                                          [Drama]         8.500  \n",
      "..                                             ...           ...  \n",
      "951                               [Comedy,  Drama]         7.612  \n",
      "952                  [Action,  Adventure,  Comedy]         7.612  \n",
      "955                             [Comedy,  Romance]         7.611  \n",
      "956            [Action,  Crime,  Drama,  Thriller]         7.611  \n",
      "957  [Drama,  Action,  Thriller,  Science Fiction]         7.611  \n",
      "\n",
      "[936 rows x 4 columns]\n"
     ]
    }
   ],
   "source": [
    "def find_top_rated_movies(df, threshold=0.9):\n",
    "    \"\"\"\n",
    "    Function to find the top-rated movies in the DataFrame.\n",
    "\n",
    "    Parameters:\n",
    "    - df (DataFrame): Input DataFrame containing movie data.\n",
    "    - threshold (float): Threshold for defining top-rated movies based on vote_average.\n",
    "                         Should be between 0 and 1. Default is 0.9.\n",
    "\n",
    "    Returns:\n",
    "    - top_rated_df (DataFrame): DataFrame containing top-rated movies.\n",
    "    \"\"\"\n",
    "    # Calculate threshold for vote_average\n",
    "    vote_average_threshold = df['vote_average'].quantile(threshold)\n",
    "\n",
    "    # Filter movies above the threshold\n",
    "    top_rated_df = df[df['vote_average'] >= vote_average_threshold]\n",
    "\n",
    "    return top_rated_df[['title', 'release_date', 'genres', 'vote_average']]\n",
    "\n",
    "# Example usage:\n",
    "top_rated_movies = find_top_rated_movies(df)\n",
    "print(top_rated_movies)\n"
   ]
  },
  {
   "cell_type": "code",
   "execution_count": null,
   "id": "1d80c7d2",
   "metadata": {},
   "outputs": [],
   "source": []
  }
 ],
 "metadata": {
  "kernelspec": {
   "display_name": "Python 3 (ipykernel)",
   "language": "python",
   "name": "python3"
  },
  "language_info": {
   "codemirror_mode": {
    "name": "ipython",
    "version": 3
   },
   "file_extension": ".py",
   "mimetype": "text/x-python",
   "name": "python",
   "nbconvert_exporter": "python",
   "pygments_lexer": "ipython3",
   "version": "3.9.13"
  }
 },
 "nbformat": 4,
 "nbformat_minor": 5
}
